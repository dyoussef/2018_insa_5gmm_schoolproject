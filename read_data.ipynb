{
 "cells": [
  {
   "cell_type": "code",
   "execution_count": 1,
   "metadata": {},
   "outputs": [
    {
     "name": "stdout",
     "output_type": "stream",
     "text": [
      "odict_keys(['band_0', 'nb_views', 'nodata', 'radius', 'secondary_1', 'secondary_2', 'dir_view_1_vector', 'dir_view_1_origin', 'dir_view_2_vector', 'dir_view_2_origin', 'dir_view_3_vector', 'dir_view_3_origin', 'coord_ECEF'])\n"
     ]
    }
   ],
   "source": [
    "import xarray as xr\n",
    "import numpy as np\n",
    "from PIL import Image as PILImage\n",
    "from osgeo import gdal, osr, gdal_array\n",
    "import netCDF4\n",
    "url = 'cloud3D_image.nc'\n",
    "nc = netCDF4.Dataset(url)\n",
    "data = nc.variables\n",
    "print (data.keys())"
   ]
  },
  {
   "cell_type": "code",
   "execution_count": 2,
   "metadata": {},
   "outputs": [
    {
     "data": {
      "text/plain": [
       "OrderedDict([('band_0', <class 'netCDF4._netCDF4.Variable'>\n",
       "              int32 band_0(i, j)\n",
       "              unlimited dimensions: \n",
       "              current shape = (500, 500)\n",
       "              filling on, default _FillValue of -2147483647 used),\n",
       "             ('nb_views', <class 'netCDF4._netCDF4.Variable'>\n",
       "              int32 nb_views(i, j)\n",
       "              unlimited dimensions: \n",
       "              current shape = (500, 500)\n",
       "              filling on, default _FillValue of -2147483647 used),\n",
       "             ('nodata', <class 'netCDF4._netCDF4.Variable'>\n",
       "              int32 nodata(i, j)\n",
       "              unlimited dimensions: \n",
       "              current shape = (500, 500)\n",
       "              filling on, default _FillValue of -2147483647 used),\n",
       "             ('radius', <class 'netCDF4._netCDF4.Variable'>\n",
       "              float32 radius(i, j)\n",
       "              unlimited dimensions: \n",
       "              current shape = (500, 500)\n",
       "              filling on, default _FillValue of 9.969209968386869e+36 used),\n",
       "             ('secondary_1', <class 'netCDF4._netCDF4.Variable'>\n",
       "              int32 secondary_1(i, j)\n",
       "              unlimited dimensions: \n",
       "              current shape = (500, 500)\n",
       "              filling on, default _FillValue of -2147483647 used),\n",
       "             ('secondary_2', <class 'netCDF4._netCDF4.Variable'>\n",
       "              int32 secondary_2(i, j)\n",
       "              unlimited dimensions: \n",
       "              current shape = (500, 500)\n",
       "              filling on, default _FillValue of -2147483647 used),\n",
       "             ('dir_view_1_vector', <class 'netCDF4._netCDF4.Variable'>\n",
       "              int32 dir_view_1_vector(x, y, z)\n",
       "              unlimited dimensions: \n",
       "              current shape = (3, 500, 500)\n",
       "              filling on, default _FillValue of -2147483647 used),\n",
       "             ('dir_view_1_origin', <class 'netCDF4._netCDF4.Variable'>\n",
       "              int32 dir_view_1_origin(x, y, z)\n",
       "              unlimited dimensions: \n",
       "              current shape = (3, 500, 500)\n",
       "              filling on, default _FillValue of -2147483647 used),\n",
       "             ('dir_view_2_vector', <class 'netCDF4._netCDF4.Variable'>\n",
       "              int32 dir_view_2_vector(x, y, z)\n",
       "              unlimited dimensions: \n",
       "              current shape = (3, 500, 500)\n",
       "              filling on, default _FillValue of -2147483647 used),\n",
       "             ('dir_view_2_origin', <class 'netCDF4._netCDF4.Variable'>\n",
       "              int32 dir_view_2_origin(x, y, z)\n",
       "              unlimited dimensions: \n",
       "              current shape = (3, 500, 500)\n",
       "              filling on, default _FillValue of -2147483647 used),\n",
       "             ('dir_view_3_vector', <class 'netCDF4._netCDF4.Variable'>\n",
       "              int32 dir_view_3_vector(x, y, z)\n",
       "              unlimited dimensions: \n",
       "              current shape = (3, 500, 500)\n",
       "              filling on, default _FillValue of -2147483647 used),\n",
       "             ('dir_view_3_origin', <class 'netCDF4._netCDF4.Variable'>\n",
       "              int32 dir_view_3_origin(x, y, z)\n",
       "              unlimited dimensions: \n",
       "              current shape = (3, 500, 500)\n",
       "              filling on, default _FillValue of -2147483647 used),\n",
       "             ('coord_ECEF', <class 'netCDF4._netCDF4.Variable'>\n",
       "              float64 coord_ECEF(x, y, z)\n",
       "              unlimited dimensions: \n",
       "              current shape = (3, 500, 500)\n",
       "              filling on, default _FillValue of 9.969209968386869e+36 used)])"
      ]
     },
     "execution_count": 2,
     "metadata": {},
     "output_type": "execute_result"
    }
   ],
   "source": [
    "data"
   ]
  },
  {
   "cell_type": "code",
   "execution_count": 28,
   "metadata": {},
   "outputs": [],
   "source": [
    "cloud3D = np.array(nc.variables['coord_ECEF'])"
   ]
  },
  {
   "cell_type": "markdown",
   "metadata": {},
   "source": [
    "On récupère la position (x,y,z) pour chaque point de l'image:"
   ]
  },
  {
   "cell_type": "code",
   "execution_count": 29,
   "metadata": {},
   "outputs": [
    {
     "data": {
      "text/plain": [
       "array([[[-4127572., -4127572., -4127572., ..., -4127714., -4127714.,\n",
       "         -4127714.],\n",
       "        [       0., -4127572., -4127572., ..., -4127714., -4127714.,\n",
       "         -4127714.],\n",
       "        [       0., -4127571., -4127571., ..., -4127713., -4127714.,\n",
       "         -4127714.],\n",
       "        ...,\n",
       "        [-4127448., -4127449., -4127449., ..., -4127587., -4127587.,\n",
       "         -4127587.],\n",
       "        [-4127448., -4127448., -4127448., ..., -4127587., -4127587.,\n",
       "         -4127587.],\n",
       "        [-4127448., -4127448., -4127447., ..., -4127586., -4127586.,\n",
       "         -4127588.]],\n",
       "\n",
       "       [[ 2907190.,  2907189.,  2907189., ...,  2906982.,  2906981.,\n",
       "          2906981.],\n",
       "        [       0.,  2907189.,  2907188., ...,  2906982.,  2906981.,\n",
       "          2906980.],\n",
       "        [       0.,  2907189.,  2907188., ...,  2906981.,  2906981.,\n",
       "          2906980.],\n",
       "        ...,\n",
       "        [ 2907103.,  2907103.,  2907102., ...,  2906893.,  2906892.,\n",
       "          2906892.],\n",
       "        [ 2907103.,  2907102.,  2907102., ...,  2906892.,  2906892.,\n",
       "          2906891.],\n",
       "        [ 2907103.,  2907102.,  2907101., ...,  2906892.,  2906892.,\n",
       "          2906892.]],\n",
       "\n",
       "       [[-3884738., -3884737., -3884737., ..., -3884735., -3884735.,\n",
       "         -3884734.],\n",
       "        [       0., -3884737., -3884737., ..., -3884735., -3884735.,\n",
       "         -3884735.],\n",
       "        [       0., -3884738., -3884737., ..., -3884736., -3884735.,\n",
       "         -3884735.],\n",
       "        ...,\n",
       "        [-3884936., -3884936., -3884936., ..., -3884930., -3884930.,\n",
       "         -3884930.],\n",
       "        [-3884936., -3884936., -3884935., ..., -3884931., -3884930.,\n",
       "         -3884930.],\n",
       "        [-3884936., -3884936., -3884935., ..., -3884931., -3884931.,\n",
       "         -3884932.]]])"
      ]
     },
     "execution_count": 29,
     "metadata": {},
     "output_type": "execute_result"
    }
   ],
   "source": [
    "cloud3D"
   ]
  },
  {
   "cell_type": "markdown",
   "metadata": {},
   "source": [
    "On utilise des classes par l'algorithme  Kmeans par défaut de OTB"
   ]
  },
  {
   "cell_type": "code",
   "execution_count": 30,
   "metadata": {},
   "outputs": [
    {
     "name": "stdout",
     "output_type": "stream",
     "text": [
      "[[4 4 4 ... 4 4 4]\n",
      " [4 4 4 ... 4 4 4]\n",
      " [4 4 4 ... 4 4 4]\n",
      " ...\n",
      " [3 0 0 ... 0 0 0]\n",
      " [0 0 2 ... 0 0 0]\n",
      " [0 2 2 ... 0 0 0]]\n",
      "nombre de classe est égale à 5\n"
     ]
    }
   ],
   "source": [
    "classe = gdal.Open('KMeansClassification.tif')\n",
    "band = classe.GetRasterBand(1)\n",
    "arr = band.ReadAsArray()\n",
    "print (arr)\n",
    "print (\"nombre de classe est égale à \" + str(np.max(arr)+1))"
   ]
  },
  {
   "cell_type": "markdown",
   "metadata": {},
   "source": [
    "A voir 0,1,2,3,4 correspond à quelle classe???"
   ]
  },
  {
   "cell_type": "markdown",
   "metadata": {},
   "source": [
    "Ici, pour chaque pixel de l'image, on a sa position 3D et sa classe. "
   ]
  },
  {
   "cell_type": "code",
   "execution_count": null,
   "metadata": {},
   "outputs": [],
   "source": []
  }
 ],
 "metadata": {
  "kernelspec": {
   "display_name": "Python 2",
   "language": "python",
   "name": "python2"
  },
  "language_info": {
   "codemirror_mode": {
    "name": "ipython",
    "version": 3
   },
   "file_extension": ".py",
   "mimetype": "text/x-python",
   "name": "python",
   "nbconvert_exporter": "python",
   "pygments_lexer": "ipython3",
   "version": "3.6.6"
  }
 },
 "nbformat": 4,
 "nbformat_minor": 2
}
