{
 "cells": [
  {
   "cell_type": "code",
   "execution_count": null,
   "metadata": {},
   "outputs": [],
   "source": [
    "def test_label ( label ) :\n",
    "    \n",
    "dsm = gdal.Open( \" Tile_test / dsm . tif \" )\n",
    "dsm_array = dsm.GetRasterBand (1) . ReadAsArray ()\n",
    "dsm_seg = gdal.Open ( \" Tile_test / dsm_seg . tif \" )\n",
    "dsm_seg_array = dsm_seg.GetRasterBand(1).ReadAsArray ()\n",
    "mask = np.isnan (dsm_array)\n",
    "label=np.uint32(label)\n",
    "z_label = dsm_array [( dsm_seg_array == label ) *(~mask ) ]\n",
    "tri = ( z_label >= (2* z_label.mean()-z_label.max()) )\n",
    "z_label = z_label [ tri ]\n",
    "ind_label = np.where (( dsm_seg_array == label ) *(~mask ) )\n",
    "x_label = ind_label [1][ tri ]\n",
    "y_label = ind_label [0][ tri ]\n",
    "# # Call of the function hough_recursif\n",
    "#z_app = hough_recursif ( x_label , y_label , z_label )\n",
    "# # Display of the result\n",
    "fig = plt.figure('Resultats')\n",
    "ax.scatter ( x_label , y_label , z_label , c = ’b ’)\n",
    "ax=fig.add_subplot (111 , projection = ’3 d ’)\n",
    "#ax.scatter ( x_label , y_label , z_app , c = ’r ’)\n",
    "plt.show ()"
   ]
  }
 ],
 "metadata": {
  "kernelspec": {
   "display_name": "Python 3",
   "language": "python",
   "name": "python3"
  },
  "language_info": {
   "codemirror_mode": {
    "name": "ipython",
    "version": 3
   },
   "file_extension": ".py",
   "mimetype": "text/x-python",
   "name": "python",
   "nbconvert_exporter": "python",
   "pygments_lexer": "ipython3",
   "version": "3.6.6"
  }
 },
 "nbformat": 4,
 "nbformat_minor": 2
}
